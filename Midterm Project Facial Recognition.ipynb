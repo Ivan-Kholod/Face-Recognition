version https://git-lfs.github.com/spec/v1
oid sha256:60f69e03762d5d518896d1ecd8ad679ea2da601ca959ba8ebf565f3b2acc94e3
size 525822
